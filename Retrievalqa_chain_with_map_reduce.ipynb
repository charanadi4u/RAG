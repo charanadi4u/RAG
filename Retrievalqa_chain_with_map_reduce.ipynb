{
 "cells": [
  {
   "cell_type": "code",
   "execution_count": 1,
   "id": "53d99f50-872f-404b-b5d1-cfe1606a46e8",
   "metadata": {},
   "outputs": [],
   "source": [
    "from langchain.embeddings.sentence_transformer import SentenceTransformerEmbeddings\n",
    "from langchain.vectorstores import Chroma\n",
    "from langchain.prompts import PromptTemplate\n",
    "from langchain.chains import RetrievalQA\n",
    "from langchain_groq import ChatGroq\n",
    "import warnings\n",
    "# Suppress all warnings\n",
    "warnings.filterwarnings('ignore')"
   ]
  },
  {
   "cell_type": "code",
   "execution_count": 2,
   "id": "c22ff38c-9bed-45ef-8b7b-30a89b2e0b7c",
   "metadata": {},
   "outputs": [],
   "source": [
    "TEXT = [\"Python is a versatile and widely used programming language known for its clean and readable syntax, which relies on indentation for code structure\",\n",
    "        \"It is a general-purpose language suitable for web development, data analysis, AI, machine learning, and automation. Python offers an extensive standard library with modules covering a broad range of tasks, making it efficient for developers.\",\n",
    "        \"It is cross-platform, running on Windows, macOS, Linux, and more, allowing for broad application compatibility.\"\n",
    "        \"Python has a large and active community that develops libraries, provides documentation, and offers support to newcomers.\",\n",
    "        \"It has particularly gained popularity in data science and machine learning due to its ease of use and the availability of powerful libraries and frameworks.\"]"
   ]
  },
  {
   "cell_type": "code",
   "execution_count": 3,
   "id": "3adb40b4-fc83-4eba-b1e2-4cefec690e61",
   "metadata": {},
   "outputs": [],
   "source": [
    "meta_data = [{\"source\": \"document 1\", \"page\": 1},\n",
    "             {\"source\": \"document 2\", \"page\": 2},\n",
    "             {\"source\": \"document 3\", \"page\": 3},\n",
    "             {\"source\": \"document 4\", \"page\": 4}]"
   ]
  },
  {
   "cell_type": "code",
   "execution_count": 4,
   "id": "cd5cf5b4-e8c5-4cd9-b63f-1284c1e33449",
   "metadata": {},
   "outputs": [],
   "source": [
    "embedding_function = SentenceTransformerEmbeddings(\n",
    "    model_name=\"all-MiniLM-L6-v2\"\n",
    ")"
   ]
  },
  {
   "cell_type": "code",
   "execution_count": 5,
   "id": "f26c060b-5e31-45ed-8bdc-4a10fe515376",
   "metadata": {},
   "outputs": [],
   "source": [
    "vector_db = Chroma.from_texts(\n",
    "    texts=TEXT,\n",
    "    embedding=embedding_function,\n",
    "    metadatas=meta_data\n",
    ")"
   ]
  },
  {
   "cell_type": "code",
   "execution_count": 6,
   "id": "22362a51-c7b3-4165-bcd4-d962a6abee3d",
   "metadata": {},
   "outputs": [],
   "source": [
    "combine_template = \"Write a summary of the following text:\\n\\n{summaries}\""
   ]
  },
  {
   "cell_type": "code",
   "execution_count": 7,
   "id": "6dddfe2d-7cbe-40db-94df-30122a166b3e",
   "metadata": {},
   "outputs": [],
   "source": [
    "combine_prompt_template = PromptTemplate.from_template(\n",
    "    template=combine_template)"
   ]
  },
  {
   "cell_type": "code",
   "execution_count": 8,
   "id": "fe8f44be-13a2-4abf-8a12-0de79a6ad5f5",
   "metadata": {},
   "outputs": [],
   "source": [
    "question_template = \"\"\"Use the following pieces of context to answer the question at the end. If you don't know the answer, just say that you don't know, don't try to make up an answer. Use three sentences maximum. Keep the answer as concise as possible. Always say \"thanks for asking!\" at the end of the answer. \n",
    "{context}\n",
    "Question: {question}\n",
    "Helpful Answer:\"\"\""
   ]
  },
  {
   "cell_type": "code",
   "execution_count": 9,
   "id": "b985ce99-c9ae-4445-9a9b-1fd5d14d06cc",
   "metadata": {},
   "outputs": [],
   "source": [
    "question_prompt_template = PromptTemplate.from_template(\n",
    "    template=question_template)"
   ]
  },
  {
   "cell_type": "code",
   "execution_count": 10,
   "id": "91f422fb-bad2-4a7e-b0b1-d79c69d8427b",
   "metadata": {},
   "outputs": [],
   "source": [
    "import os\n",
    "groq_api_key = os.environ[\"GROQ_API_KEY\"]\n",
    "os.environ[\"HF_HUB_DISABLE_SYMLINKS_WARNING\"] = \"1\""
   ]
  },
  {
   "cell_type": "code",
   "execution_count": 11,
   "id": "e70b4f04-cde5-418f-8134-2ba013963a4b",
   "metadata": {},
   "outputs": [],
   "source": [
    "llm = ChatGroq(model=\"mixtral-8x7b-32768\", temperature=0)"
   ]
  },
  {
   "cell_type": "code",
   "execution_count": 12,
   "id": "8dcb1f5d-22b1-41f7-8b00-962d6d0ef4d7",
   "metadata": {},
   "outputs": [],
   "source": [
    "qa_chain = RetrievalQA.from_chain_type(\n",
    "                                    llm=llm,\n",
    "                                    retriever=vector_db.as_retriever(\n",
    "                                    search_kwargs={'fetch_k': 4, 'k': 3}, search_type='mmr'),\n",
    "                                    return_source_documents=True,\n",
    "                                    chain_type=\"map_reduce\",\n",
    "                                    chain_type_kwargs={\"question_prompt\": question_prompt_template,\n",
    "                                    \"combine_prompt\": combine_prompt_template}\n",
    "                                    )\n",
    "              "
   ]
  },
  {
   "cell_type": "code",
   "execution_count": 13,
   "id": "5416da24-823d-471c-9e5e-796704b22d5e",
   "metadata": {},
   "outputs": [],
   "source": [
    "question = \"What areas is Python mostly used\""
   ]
  },
  {
   "cell_type": "code",
   "execution_count": 14,
   "id": "63a9b12c-eb85-45ae-a3cb-e34ffbd0178b",
   "metadata": {},
   "outputs": [],
   "source": [
    "response = qa_chain({\"query\": question})"
   ]
  },
  {
   "cell_type": "code",
   "execution_count": 15,
   "id": "dea3f3c7-1bb8-43c8-a02a-2e0fbd488e56",
   "metadata": {},
   "outputs": [
    {
     "name": "stdout",
     "output_type": "stream",
     "text": [
      "{'query': 'What areas is Python mostly used', 'result': \"Python is a versatile and widely-used programming language, known for its simplicity and extensive libraries. It is commonly employed in areas such as web development, data analysis, artificial intelligence, machine learning, automation, scientific computing, and education. These areas often require cross-platform compatibility, and Python's large, active community provides extensive libraries, documentation, and support. Thanks for asking!\", 'source_documents': [Document(page_content='It is a general-purpose language suitable for web development, data analysis, AI, machine learning, and automation. Python offers an extensive standard library with modules covering a broad range of tasks, making it efficient for developers.', metadata={'page': 2, 'source': 'document 2'}), Document(page_content='It is cross-platform, running on Windows, macOS, Linux, and more, allowing for broad application compatibility.Python has a large and active community that develops libraries, provides documentation, and offers support to newcomers.', metadata={'page': 3, 'source': 'document 3'}), Document(page_content='Python is a versatile and widely used programming language known for its clean and readable syntax, which relies on indentation for code structure', metadata={'page': 1, 'source': 'document 1'})]}\n"
     ]
    }
   ],
   "source": [
    "print(response)"
   ]
  },
  {
   "cell_type": "code",
   "execution_count": 16,
   "id": "5b6a9438-c7c7-4b7d-aea2-020a0af2e788",
   "metadata": {},
   "outputs": [
    {
     "name": "stdout",
     "output_type": "stream",
     "text": [
      "============================================\n",
      "====================Result==================\n",
      "============================================\n",
      "Python is a versatile and widely-used programming language, known for its simplicity and extensive libraries. It is commonly employed in areas such as web development, data analysis, artificial intelligence, machine learning, automation, scientific computing, and education. These areas often require cross-platform compatibility, and Python's large, active community provides extensive libraries, documentation, and support. Thanks for asking!\n",
      "============================================\n",
      "===============Source Documents============\n",
      "============================================\n"
     ]
    }
   ],
   "source": [
    "print(\"============================================\")\n",
    "print(\"====================Result==================\")\n",
    "print(\"============================================\")\n",
    "print(response[\"result\"])\n",
    "\n",
    "\n",
    "print(\"============================================\")\n",
    "print(\"===============Source Documents============\")\n",
    "print(\"============================================\")"
   ]
  },
  {
   "cell_type": "code",
   "execution_count": 17,
   "id": "6e73226a-9e77-4c7b-a30e-2286005f2ebe",
   "metadata": {},
   "outputs": [
    {
     "name": "stdout",
     "output_type": "stream",
     "text": [
      "page_content='It is a general-purpose language suitable for web development, data analysis, AI, machine learning, and automation. Python offers an extensive standard library with modules covering a broad range of tasks, making it efficient for developers.' metadata={'page': 2, 'source': 'document 2'}\n"
     ]
    }
   ],
   "source": [
    "print(response[\"source_documents\"][0])"
   ]
  },
  {
   "cell_type": "code",
   "execution_count": null,
   "id": "4c2109d1-ff81-447e-acf6-e9064653e878",
   "metadata": {},
   "outputs": [],
   "source": []
  }
 ],
 "metadata": {
  "kernelspec": {
   "display_name": "Python 3 (ipykernel)",
   "language": "python",
   "name": "python3"
  },
  "language_info": {
   "codemirror_mode": {
    "name": "ipython",
    "version": 3
   },
   "file_extension": ".py",
   "mimetype": "text/x-python",
   "name": "python",
   "nbconvert_exporter": "python",
   "pygments_lexer": "ipython3",
   "version": "3.11.7"
  }
 },
 "nbformat": 4,
 "nbformat_minor": 5
}
