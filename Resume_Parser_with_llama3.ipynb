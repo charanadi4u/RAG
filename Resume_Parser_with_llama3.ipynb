{
 "cells": [
  {
   "cell_type": "code",
   "execution_count": 1,
   "id": "c43d876e-caab-46c5-a317-d18d9ae7f410",
   "metadata": {},
   "outputs": [],
   "source": [
    "import os\n",
    "import textwrap\n",
    "import torch\n",
    "import chromadb\n",
    "import langchain\n",
    "import openai\n",
    "from langchain.chains import RetrievalQA\n",
    "from langchain.llms import Ollama\n",
    "from langchain.document_loaders import TextLoader, UnstructuredPDFLoader, YoutubeLoader\n",
    "from langchain.embeddings import HuggingFaceEmbeddings,HuggingFaceInstructEmbeddings\n",
    "from langchain.indexes import VectorstoreIndexCreator\n",
    "from langchain.text_splitter import RecursiveCharacterTextSplitter\n",
    "from langchain.vectorstores import Chroma\n",
    "from langchain.prompts import PromptTemplate\n",
    "from langchain.document_loaders.image import UnstructuredImageLoader"
   ]
  },
  {
   "cell_type": "code",
   "execution_count": 2,
   "id": "45c38b62-0a71-4abe-8731-9182ae7af016",
   "metadata": {},
   "outputs": [],
   "source": [
    "def print_response(response: str):\n",
    "    print(\"\\n\".join(textwrap.wrap(response, width=100)))"
   ]
  },
  {
   "cell_type": "code",
   "execution_count": 3,
   "id": "9e4093b7-92bf-44a9-8b67-5e6a63086977",
   "metadata": {},
   "outputs": [],
   "source": [
    "from langchain_community.document_loaders import UnstructuredPDFLoader\n",
    "# convert_from_path('a_file_name.pdf', poppler_path='poppler-24.02.0\\Library\\bin')\n",
    "pdf_loader = UnstructuredPDFLoader('G:\\youtube_transcript\\\\resume-sample.pdf')"
   ]
  },
  {
   "cell_type": "code",
   "execution_count": 4,
   "id": "ddc65cf9-09a0-4a34-ae14-57ae453c2d9c",
   "metadata": {},
   "outputs": [],
   "source": [
    "from langchain_community.document_loaders import UnstructuredPDFLoader\n",
    "pdf_pages = pdf_loader.load_and_split()"
   ]
  },
  {
   "cell_type": "code",
   "execution_count": null,
   "id": "b991526b-2ccd-42e1-8e5d-066b308a5761",
   "metadata": {},
   "outputs": [],
   "source": [
    "# from pdf2image import convert_from_path\n",
    "# pages = convert_from_path(r\"G:\\Resume_Project\\resume_juanjosecarin.pdf\", poppler_path=r'C:\\Program Files (x86)\\poppler-24.02.0\\Library\\bin')\n",
    "# pages"
   ]
  },
  {
   "cell_type": "code",
   "execution_count": 5,
   "id": "449e733f-9ab3-4b37-9b18-c420c430c6af",
   "metadata": {},
   "outputs": [
    {
     "data": {
      "text/plain": [
       "7"
      ]
     },
     "execution_count": 5,
     "metadata": {},
     "output_type": "execute_result"
    }
   ],
   "source": [
    "len(pdf_pages)"
   ]
  },
  {
   "cell_type": "code",
   "execution_count": 6,
   "id": "6b059d90-ab4b-4e96-95ea-ebf7fcbb479b",
   "metadata": {},
   "outputs": [
    {
     "data": {
      "text/plain": [
       "19"
      ]
     },
     "execution_count": 6,
     "metadata": {},
     "output_type": "execute_result"
    }
   ],
   "source": [
    "text_splitter = RecursiveCharacterTextSplitter(chunk_size=2000, chunk_overlap=512)\n",
    "texts = text_splitter.split_documents(pdf_pages)\n",
    "len(texts)"
   ]
  },
  {
   "cell_type": "code",
   "execution_count": 8,
   "id": "7c732834-18b3-4d0a-963c-73cc4f836637",
   "metadata": {},
   "outputs": [],
   "source": [
    "from langchain.embeddings import HuggingFaceEmbeddings, OpenAIEmbeddings, HuggingFaceInstructEmbeddings"
   ]
  },
  {
   "cell_type": "code",
   "execution_count": 11,
   "id": "ca05db77-4cbe-47fc-91b5-67c4c0c1beb7",
   "metadata": {},
   "outputs": [],
   "source": [
    "model_name = \"BAAI/bge-small-en-v1.5\"\n",
    "\n",
    "hf_embeddings = HuggingFaceEmbeddings(\n",
    "    model_name = model_name)"
   ]
  },
  {
   "cell_type": "code",
   "execution_count": 12,
   "id": "c45b1003-4656-4689-9a24-89f5b92d90b5",
   "metadata": {},
   "outputs": [],
   "source": [
    "db = Chroma.from_documents(texts, hf_embeddings)"
   ]
  },
  {
   "cell_type": "code",
   "execution_count": 23,
   "id": "1b320b01-0a1a-4436-a752-6a2210cb056d",
   "metadata": {},
   "outputs": [],
   "source": [
    "llm = Ollama(model='llama3:8b')"
   ]
  },
  {
   "cell_type": "code",
   "execution_count": 14,
   "id": "19c27597-a512-461f-9a97-3f48fb3b698d",
   "metadata": {},
   "outputs": [],
   "source": [
    "def generate_prompt(prompt, sys_prompt):\n",
    "    return f\"[INST] <<SYS>> {sys_prompt} <</SYS>> {prompt} [/INST]\""
   ]
  },
  {
   "cell_type": "code",
   "execution_count": 15,
   "id": "e748cf23-4803-4ffe-b7af-202f69e50dbe",
   "metadata": {},
   "outputs": [],
   "source": [
    "sys_prompt = \"Use following piece of context to answer the question in less than 20 words\"\n",
    "template = generate_prompt(\n",
    "    \"\"\"\n",
    "    {context}\n",
    "\n",
    "    Question : {question}\n",
    "    \"\"\"\n",
    "    , sys_prompt)\n",
    "\n",
    "prompt = PromptTemplate(template=template, input_variables=[\"context\", \"question\"])"
   ]
  },
  {
   "cell_type": "code",
   "execution_count": 17,
   "id": "b98a955f-927d-43db-b36d-ce95473091fe",
   "metadata": {},
   "outputs": [],
   "source": [
    "chain_type_kwargs = {\"prompt\": prompt}\n",
    "qa_chain = RetrievalQA.from_chain_type(\n",
    "    llm=llm,\n",
    "    chain_type=\"stuff\",\n",
    "    retriever=db.as_retriever(search_kwargs={\"k\": 2}),\n",
    "    return_source_documents = True,\n",
    "    chain_type_kwargs=chain_type_kwargs,\n",
    ")"
   ]
  },
  {
   "cell_type": "code",
   "execution_count": null,
   "id": "9c406d74-018c-439e-8b8a-6e2c8ad9b08c",
   "metadata": {},
   "outputs": [],
   "source": [
    "result = qa_chain(\"what projects candidate worked on ?\")"
   ]
  },
  {
   "cell_type": "code",
   "execution_count": null,
   "id": "9fefdf9d-6bc3-4640-aef0-ac74a1451a52",
   "metadata": {},
   "outputs": [],
   "source": [
    "result = qa_chain(\"where did candidate study?\")"
   ]
  },
  {
   "cell_type": "code",
   "execution_count": null,
   "id": "6186ad03-b3f5-4be4-bcf3-dd5da11e36ac",
   "metadata": {},
   "outputs": [],
   "source": [
    "result = qa_chain(\"what skillset candidate has?\")"
   ]
  },
  {
   "cell_type": "code",
   "execution_count": null,
   "id": "2a132f5f-cc17-4fe5-a78a-ee0321a53846",
   "metadata": {},
   "outputs": [],
   "source": [
    "result = qa_chain(\"what's the contact detail of candidate?\")"
   ]
  },
  {
   "cell_type": "code",
   "execution_count": null,
   "id": "933fbd3e-63ea-420b-92db-4eb882a5780d",
   "metadata": {},
   "outputs": [],
   "source": [
    "result = qa_chain(\"how many years of work experience candidate has?\")"
   ]
  },
  {
   "cell_type": "code",
   "execution_count": null,
   "id": "43c662b4-e36d-4b4c-8036-2e3b19804fdf",
   "metadata": {},
   "outputs": [],
   "source": [
    "result = qa_chain(\"In which companies with what jobtitle did candidate work?\")"
   ]
  },
  {
   "cell_type": "code",
   "execution_count": null,
   "id": "4e430456-537c-4d0f-92ea-7f0176afb112",
   "metadata": {},
   "outputs": [],
   "source": []
  },
  {
   "cell_type": "code",
   "execution_count": null,
   "id": "cdd8ec68-60b1-4270-ab10-c02de7736875",
   "metadata": {},
   "outputs": [],
   "source": []
  }
 ],
 "metadata": {
  "kernelspec": {
   "display_name": "Python 3 (ipykernel)",
   "language": "python",
   "name": "python3"
  },
  "language_info": {
   "codemirror_mode": {
    "name": "ipython",
    "version": 3
   },
   "file_extension": ".py",
   "mimetype": "text/x-python",
   "name": "python",
   "nbconvert_exporter": "python",
   "pygments_lexer": "ipython3",
   "version": "3.11.7"
  }
 },
 "nbformat": 4,
 "nbformat_minor": 5
}
